{
 "cells": [
  {
   "cell_type": "markdown",
   "id": "e267fa03",
   "metadata": {},
   "source": [
    "###### Q1. Write a program to find all pairs of an integer array whose sum is equal to a given number?"
   ]
  },
  {
   "cell_type": "code",
   "execution_count": 6,
   "id": "e7dc683c",
   "metadata": {},
   "outputs": [
    {
     "name": "stdout",
     "output_type": "stream",
     "text": [
      "Enter size of array2\n",
      "enter element  1\n",
      "6\n",
      "enter element  2\n",
      "6\n",
      "[6, 6]\n",
      "Enter sum:12\n",
      "[6,6]\n"
     ]
    }
   ],
   "source": [
    "class array:\n",
    "    def __init__(self):\n",
    "        self.arr=[]\n",
    "        \n",
    "    def push(self,data):\n",
    "        self.arr.append(data)\n",
    "        #print(self.arr)\n",
    "        \n",
    "n=int(input('Enter size of array'))\n",
    "a=array()\n",
    "for i in range(n):\n",
    "    print(\"enter element \",i+1)\n",
    "    num=int(input())\n",
    "    a.push(num)\n",
    "\n",
    "print(a.arr)\n",
    "sum=int(input(\"Enter sum:\"))\n",
    "for i in range(len(a.arr)):\n",
    "    for j in range(i+1,len(a.arr)):\n",
    "        if a.arr[i]+a.arr[j]==sum:\n",
    "            print('[{},{}]'.format(a.arr[i],a.arr[j]))"
   ]
  },
  {
   "cell_type": "code",
   "execution_count": null,
   "id": "8f1b4014",
   "metadata": {},
   "outputs": [],
   "source": []
  },
  {
   "cell_type": "markdown",
   "id": "80499346",
   "metadata": {},
   "source": [
    "###### Q2. Write a program to reverse an array in place? In place means you cannot create a new array. You have to update the original array."
   ]
  },
  {
   "cell_type": "code",
   "execution_count": 3,
   "id": "c9020555",
   "metadata": {},
   "outputs": [
    {
     "name": "stdout",
     "output_type": "stream",
     "text": [
      "[5, 4, 3, 2, 1]\n",
      "[1, 2, 3, 4, 5]\n"
     ]
    }
   ],
   "source": [
    "class array:\n",
    "    def __init__(self):\n",
    "        self.arr=[]\n",
    "    def push(self,data):\n",
    "        self.arr.append(data)\n",
    "    def pop(self):\n",
    "        return self.arr.pop()\n",
    "    def insert_at_pos(self,pos,data):\n",
    "        self.arr.insert(pos,data)\n",
    "\n",
    "a=array()\n",
    "a.push(5)\n",
    "a.push(4)\n",
    "a.push(3)\n",
    "a.push(2)\n",
    "a.push(1)\n",
    "print(a.arr)\n",
    "for i in range(len(a.arr)):\n",
    "    p=a.pop()\n",
    "    a.insert_at_pos(i,p)\n",
    "print(a.arr)"
   ]
  },
  {
   "cell_type": "code",
   "execution_count": null,
   "id": "8808320f",
   "metadata": {},
   "outputs": [],
   "source": []
  },
  {
   "cell_type": "markdown",
   "id": "f266f7b1",
   "metadata": {},
   "source": [
    "###### Q3. Write a program to check if two strings are a rotation of each other?"
   ]
  },
  {
   "cell_type": "code",
   "execution_count": 10,
   "id": "5eb6d797",
   "metadata": {},
   "outputs": [
    {
     "name": "stdout",
     "output_type": "stream",
     "text": [
      "Enter a string : 123\n",
      "Enter a string : 231\n",
      "True\n"
     ]
    }
   ],
   "source": [
    "def string_rotation(str1,str2):\n",
    "    if len(str1)!=len(str2):\n",
    "        return False\n",
    "    str_concat=str1*2\n",
    "    if str2 in str_concat:\n",
    "        return True\n",
    "    else:\n",
    "        return False\n",
    "\n",
    "str1=input(\"Enter first string : \")\n",
    "str2=input(\"Enter second string : \")\n",
    "\n",
    "print(string_rotation(str1,str2))\n"
   ]
  },
  {
   "cell_type": "markdown",
   "id": "b8da1d19",
   "metadata": {},
   "source": [
    "###### Q4. Write a program to print the first non-repeated character from a string?"
   ]
  },
  {
   "cell_type": "code",
   "execution_count": 6,
   "id": "2d316535",
   "metadata": {},
   "outputs": [
    {
     "name": "stdout",
     "output_type": "stream",
     "text": [
      "b\n"
     ]
    }
   ],
   "source": [
    "s='abcdafg'\n",
    "for i in s:\n",
    "    if s.count(i)==1:\n",
    "        print(i)\n",
    "        break"
   ]
  },
  {
   "cell_type": "code",
   "execution_count": null,
   "id": "7e7e3a17",
   "metadata": {},
   "outputs": [],
   "source": []
  },
  {
   "cell_type": "code",
   "execution_count": null,
   "id": "cb6969be",
   "metadata": {},
   "outputs": [],
   "source": [
    "Q5. Read about the Tower of Hanoi algorithm. Write a program to implement it."
   ]
  },
  {
   "cell_type": "code",
   "execution_count": 16,
   "id": "2608359c",
   "metadata": {},
   "outputs": [
    {
     "name": "stdout",
     "output_type": "stream",
     "text": [
      "default stack [3, 2, 1]\n",
      "destination stack before hanoi []\n",
      "support stack []\n",
      "\n",
      "elements in destination stack\n",
      "| 1 |\n",
      "**********\n",
      "elements in support stack\n",
      "| 2 |\n",
      "**********\n",
      "elements in support stack\n",
      "| 2 |\n",
      "| 1 |\n",
      "**********\n",
      "elements in destination stack\n",
      "| 3 |\n",
      "**********\n",
      "elements in default stack\n",
      "| 1 |\n",
      "**********\n",
      "elements in destination stack\n",
      "| 3 |\n",
      "| 2 |\n",
      "**********\n",
      "elements in destination stack\n",
      "| 3 |\n",
      "| 2 |\n",
      "| 1 |\n",
      "**********\n",
      "destination stack [3, 2, 1]\n",
      "default stack []\n",
      "support stack []\n"
     ]
    }
   ],
   "source": [
    "class stack:\n",
    "    def __init__(self):\n",
    "        self.stck=[]\n",
    "    def push(self,data):\n",
    "        self.stck.append(data)\n",
    "    def pop(self):\n",
    "        return self.stck.pop()\n",
    "        \n",
    "s=stack()\n",
    "s.push(3)\n",
    "s.push(2)\n",
    "s.push(1)\n",
    "print('default stack',s.stck)\n",
    "l=stack()\n",
    "print('destination stack before hanoi',l.stck)\n",
    "i=stack()\n",
    "print('support stack',i.stck)\n",
    "print()\n",
    "def hanoi(n,s,l,i):\n",
    "    def disp(p):\n",
    "        for i in p.stck:\n",
    "            print('|',i,'|')\n",
    "        print('*'*10)\n",
    "    l.push(s.pop())\n",
    "    print('elements in destination stack')\n",
    "    disp(l)\n",
    "    i.push(s.stck.pop())\n",
    "    print('elements in support stack')\n",
    "    disp(i)\n",
    "    i.push(l.stck.pop())\n",
    "    print('elements in support stack')\n",
    "    disp(i)\n",
    "    l.push(s.stck.pop())\n",
    "    print('elements in destination stack')\n",
    "    disp(l)\n",
    "    s.push(i.stck.pop())\n",
    "    print('elements in default stack')\n",
    "    disp(s)\n",
    "    l.push(i.stck.pop())\n",
    "    print('elements in destination stack')\n",
    "    disp(l)\n",
    "    l.push(s.stck.pop())\n",
    "    print('elements in destination stack')\n",
    "    disp(l)\n",
    "    print('destination stack',l.stck)\n",
    "    print('default stack',s.stck)\n",
    "    print('support stack',i.stck)\n",
    "hanoi(3,s,l,i)"
   ]
  },
  {
   "cell_type": "code",
   "execution_count": null,
   "id": "67f4a1b8",
   "metadata": {},
   "outputs": [],
   "source": []
  },
  {
   "cell_type": "code",
   "execution_count": null,
   "id": "5a4f237d",
   "metadata": {},
   "outputs": [],
   "source": [
    "Q6. Read about infix, prefix, and postfix expressions. Write a program to convert postfix to prefix expression."
   ]
  },
  {
   "cell_type": "code",
   "execution_count": 32,
   "id": "b4cde91a",
   "metadata": {},
   "outputs": [
    {
     "name": "stdout",
     "output_type": "stream",
     "text": [
      "Prefix exp of given exp:  *96-47\n",
      "Prefix exp of given exp :  +98/75\n"
     ]
    }
   ],
   "source": [
    "def conversion(exp):\n",
    "    operators=['+','-','/','*']\n",
    "    stack = []\n",
    "    for i in range(len(exp)):\n",
    "        if exp[i] in operators:\n",
    "            op1 = stack[-1]\n",
    "            stack.pop()\n",
    "            op2 = stack[-1]\n",
    "            stack.pop()\n",
    "            new = exp[i] + op2 + op1\n",
    "            stack.append(new)\n",
    "        else:\n",
    "            stack.append(exp[i])\n",
    "    final_exp = \"\"\n",
    "    for i in stack:\n",
    "        final_exp += i\n",
    "    return final_exp\n",
    " \n",
    "exp = \"96*47-\"\n",
    "print(\"Prefix exp of given exp: \", conversion(exp))\n",
    "print(\"Prefix exp of given exp : \", conversion('98+75/'))"
   ]
  },
  {
   "cell_type": "code",
   "execution_count": null,
   "id": "c160b8bd",
   "metadata": {},
   "outputs": [],
   "source": []
  },
  {
   "cell_type": "code",
   "execution_count": null,
   "id": "37e1cf0a",
   "metadata": {},
   "outputs": [],
   "source": [
    "Q7. Write a program to convert prefix expression to infix expression."
   ]
  },
  {
   "cell_type": "code",
   "execution_count": 66,
   "id": "b0746349",
   "metadata": {},
   "outputs": [
    {
     "name": "stdout",
     "output_type": "stream",
     "text": [
      "Infix expression is : ((A-(B/C))*((A/K)-L))\n",
      "Infix expression is : ((8-5)*(3/6))\n"
     ]
    }
   ],
   "source": [
    "def conversion(exp):\n",
    "    stack = []\n",
    "    operators=[\"*\",\"+\" ,\"-\" ,\"/\" ,\"^\" ,\"(\" , \")\"]\n",
    "    i = len(exp) - 1\n",
    "    while i >= 0:\n",
    "        if exp[i] not in operators:\n",
    "            stack.append(exp[i])\n",
    "            i -= 1\n",
    "        else:\n",
    "            str = \"(\" + stack.pop() + exp[i] + stack.pop() + \")\"\n",
    "            stack.append(str)\n",
    "            i -= 1\n",
    "    return stack.pop()\n",
    "\n",
    "exp = \"*-A/BC-/AKL\"\n",
    "\n",
    "print(\"Infix expression is :\" , conversion(exp))\n",
    "print(\"Infix expression is :\" , conversion('*-85/36-/883'))"
   ]
  },
  {
   "cell_type": "code",
   "execution_count": null,
   "id": "15ee05c6",
   "metadata": {},
   "outputs": [],
   "source": []
  },
  {
   "cell_type": "code",
   "execution_count": null,
   "id": "bcd72f07",
   "metadata": {},
   "outputs": [],
   "source": [
    "Q8. Write a program to check if all the brackets are closed in a given code snippet."
   ]
  },
  {
   "cell_type": "code",
   "execution_count": 50,
   "id": "667170d8",
   "metadata": {},
   "outputs": [
    {
     "name": "stdout",
     "output_type": "stream",
     "text": [
      "All the brackets are not closed properly\n"
     ]
    }
   ],
   "source": [
    "s='[({(})])'\n",
    "ind=0\n",
    "for i in s:\n",
    "    if i.startswith('['):\n",
    "        if s[len(s)-ind-1].endswith(']'):\n",
    "            #print('bracket is closed')\n",
    "            pass\n",
    "            ind+=1\n",
    "    elif i.startswith('{'):\n",
    "        if s[len(s)-ind-1].endswith('}'):\n",
    "            #print('bracket is closed')\n",
    "            pass\n",
    "            ind+=1\n",
    "    elif i.startswith('('):\n",
    "        if s[len(s)-ind-1].endswith(')'):\n",
    "            #print('bracket is closed')\n",
    "            pass\n",
    "            ind+=1\n",
    "    else:\n",
    "        print('All the brackets are not closed properly')\n",
    "        break\n",
    "else:\n",
    "    print(\"All brackets are closed properly\")"
   ]
  },
  {
   "cell_type": "code",
   "execution_count": null,
   "id": "edc3458d",
   "metadata": {},
   "outputs": [],
   "source": []
  },
  {
   "cell_type": "code",
   "execution_count": null,
   "id": "71964dbb",
   "metadata": {},
   "outputs": [],
   "source": [
    "Q9. Write a program to reverse a stack."
   ]
  },
  {
   "cell_type": "code",
   "execution_count": 16,
   "id": "611ba52c",
   "metadata": {},
   "outputs": [
    {
     "name": "stdout",
     "output_type": "stream",
     "text": [
      "[5, 4, 3, 2, 1]\n",
      "[1, 2, 3, 4, 5]\n"
     ]
    }
   ],
   "source": [
    "class stack:\n",
    "    def __init__(self):\n",
    "        self.stck=[]\n",
    "    def push(self,data):\n",
    "        self.stck.append(data)\n",
    "    def pop(self):\n",
    "        self.stck.pop()\n",
    "s=stack()\n",
    "s.push(5)\n",
    "s.push(4)\n",
    "s.push(3)\n",
    "s.push(2)\n",
    "s.push(1)\n",
    "print(s.stck)\n",
    "reverse=stack()\n",
    "for i in range(len(s.stck)):\n",
    "    reverse.push(s.stck.pop())\n",
    "print(reverse.stck)"
   ]
  },
  {
   "cell_type": "code",
   "execution_count": null,
   "id": "ba182a01",
   "metadata": {},
   "outputs": [],
   "source": []
  },
  {
   "cell_type": "code",
   "execution_count": null,
   "id": "3f26eb92",
   "metadata": {},
   "outputs": [],
   "source": [
    "Q10. Write a program to find the smallest number using a stack."
   ]
  },
  {
   "cell_type": "code",
   "execution_count": 41,
   "id": "7f36100c",
   "metadata": {},
   "outputs": [
    {
     "data": {
      "text/plain": [
       "2"
      ]
     },
     "execution_count": 41,
     "metadata": {},
     "output_type": "execute_result"
    }
   ],
   "source": [
    "class stack:\n",
    "    def __init__(self):\n",
    "        self.stck=[]\n",
    "    def push(self,data):\n",
    "        self.stck.append(data)\n",
    "    def pop(self):\n",
    "        self.stck.pop()\n",
    "    def traversal(self):\n",
    "        smallest =self.stck[0]\n",
    "        for i in self.stck:\n",
    "            if i<smallest:\n",
    "                smallest=i\n",
    "        return smallest\n",
    "s=stack()\n",
    "s.push(5)\n",
    "s.push(4)\n",
    "s.push(3)\n",
    "s.push(2)\n",
    "s.push(6)\n",
    "s.traversal()"
   ]
  },
  {
   "cell_type": "code",
   "execution_count": 11,
   "id": "c382d4fd",
   "metadata": {},
   "outputs": [
    {
     "name": "stdout",
     "output_type": "stream",
     "text": [
      "0\n",
      "0\n",
      "1\n"
     ]
    }
   ],
   "source": []
  },
  {
   "cell_type": "code",
   "execution_count": null,
   "id": "a07ccf1b",
   "metadata": {},
   "outputs": [],
   "source": []
  }
 ],
 "metadata": {
  "kernelspec": {
   "display_name": "Python 3 (ipykernel)",
   "language": "python",
   "name": "python3"
  },
  "language_info": {
   "codemirror_mode": {
    "name": "ipython",
    "version": 3
   },
   "file_extension": ".py",
   "mimetype": "text/x-python",
   "name": "python",
   "nbconvert_exporter": "python",
   "pygments_lexer": "ipython3",
   "version": "3.9.12"
  }
 },
 "nbformat": 4,
 "nbformat_minor": 5
}
